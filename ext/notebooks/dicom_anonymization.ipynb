{
 "cells": [
  {
   "cell_type": "code",
   "execution_count": null,
   "metadata": {},
   "outputs": [],
   "source": [
    "# Anonymize a DICOM file\n",
    "\n",
    "# Import submodules, classes and methods\n",
    "from pybro.utils import setup_logging\n",
    "from pybro.dicom import DicomFile\n",
    "\n",
    "# Setup logging\n",
    "setup_logging(\n",
    "    log_type=\"dev\",\n",
    "    output=\"file\",\n",
    ")\n",
    "\n",
    "# Anonymize a DICOM file\n",
    "dicom_file = DicomFile(\"../data/dicom/supported_file.dcm\")\n",
    "print(dicom_file)\n",
    "dicom_file.anonymize()\n",
    "dicom_file.anonymize(\"../data/dicom/anonymized\")"
   ]
  },
  {
   "cell_type": "code",
   "execution_count": null,
   "metadata": {},
   "outputs": [],
   "source": [
    "# Anonymize a DICOM directory\n",
    "\n",
    "# Import submodules, classes and methods\n",
    "from pybro.utils import setup_logging\n",
    "from pybro.dicom import DicomDir\n",
    "\n",
    "# Setup logging\n",
    "setup_logging(\n",
    "    log_type=\"dev\",\n",
    "    output=\"file\",\n",
    ")\n",
    "\n",
    "# Anonymize a DICOM file\n",
    "dicom_dir = DicomDir(\"../data/dicom/dicom_exam\")\n",
    "print(dicom_dir)\n",
    "dicom_dir.anonymize()"
   ]
  },
  {
   "cell_type": "code",
   "execution_count": null,
   "metadata": {},
   "outputs": [],
   "source": []
  }
 ],
 "metadata": {
  "kernelspec": {
   "display_name": "Python 3",
   "language": "python",
   "name": "python3"
  },
  "language_info": {
   "codemirror_mode": {
    "name": "ipython",
    "version": 3
   },
   "file_extension": ".py",
   "mimetype": "text/x-python",
   "name": "python",
   "nbconvert_exporter": "python",
   "pygments_lexer": "ipython3",
   "version": "3.10.10"
  },
  "orig_nbformat": 4
 },
 "nbformat": 4,
 "nbformat_minor": 2
}
