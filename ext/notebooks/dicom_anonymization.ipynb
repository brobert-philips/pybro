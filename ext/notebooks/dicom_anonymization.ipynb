{
 "cells": [
  {
   "cell_type": "code",
   "execution_count": null,
   "metadata": {},
   "outputs": [],
   "source": [
    "# Anonymize a DICOM file\n",
    "\n",
    "# Import packages and submodules\n",
    "import logging\n",
    "\n",
    "# Import submodules, classes and methods\n",
    "from pybro.utils import setup_logging\n",
    "from pybro.dicom import DicomFile\n",
    "\n",
    "# Setup logging\n",
    "setup_logging(\n",
    "    log_type=\"dev\",\n",
    "    output=\"file\",\n",
    ")\n",
    "\n",
    "# Initialize logging in this file\n",
    "logger = logging.getLogger(__name__)\n",
    "\n",
    "# Create DicomFile instance\n",
    "dicom_file = DicomFile(\"../data/dicom/supported_file.dcm\")\n",
    "\n",
    "# Anonymize DICOM file\n",
    "if not dicom_file.anonymize():\n",
    "    logger.info(\"File <%s> could not be anonymized\", dicom_file.file_path)\n",
    "if not dicom_file.anonymize(\"../data/dicom/anonymized\"):\n",
    "    logger.info(\"File <%s> could not be anonymized\", dicom_file.file_path)\n"
   ]
  },
  {
   "cell_type": "code",
   "execution_count": null,
   "metadata": {},
   "outputs": [],
   "source": [
    "# Anonymize a DICOM directory\n",
    "\n",
    "# Import packages and submodules\n",
    "import logging\n",
    "\n",
    "# Import submodules, classes and methods\n",
    "from pybro.utils import setup_logging\n",
    "from pybro.dicom import DicomDir\n",
    "\n",
    "# Setup logging\n",
    "setup_logging(\n",
    "    log_type=\"dev\",\n",
    "    output=\"file\",\n",
    ")\n",
    "\n",
    "# Initialize logging in this file\n",
    "logger = logging.getLogger(__name__)\n",
    "\n",
    "# Create DicomDir instance\n",
    "dicom_dir = DicomDir(\"../data/dicom/dicom_exam\")\n",
    "\n",
    "# Anonymize DICOM directory\n",
    "if not dicom_dir.anonymize():\n",
    "    logger.info(\"Directory <%s> could not be anonymized\", dicom_dir.dir_path)\n"
   ]
  },
  {
   "cell_type": "code",
   "execution_count": null,
   "metadata": {},
   "outputs": [],
   "source": [
    "# Display a DICOM iamge\n",
    "\n",
    "# Import packages and submodules\n",
    "import logging\n",
    "import matplotlib.pyplot as plt\n",
    "\n",
    "# Import submodules, classes and methods\n",
    "from pybro.utils import setup_logging\n",
    "from pybro.dicom import DicomFile\n",
    "\n",
    "# Setup logging\n",
    "setup_logging(\n",
    "    log_type=\"dev\",\n",
    "    output=\"file\",\n",
    ")\n",
    "\n",
    "# Initialize logging in this file\n",
    "logger = logging.getLogger(__name__)\n",
    "\n",
    "# Create DicomFile instance\n",
    "dicom_file = DicomFile(\"../data/dicom/supported_file.dcm\")\n",
    "\n",
    "# Get pixel array\n",
    "img = dicom_file.dataset.pixel_array\n",
    "\n",
    "# Display DICOM image\n",
    "plt.imshow(img, cmap=\"gray\")\n",
    "plt.show()\n"
   ]
  }
 ],
 "metadata": {
  "kernelspec": {
   "display_name": "Python 3",
   "language": "python",
   "name": "python3"
  },
  "language_info": {
   "codemirror_mode": {
    "name": "ipython",
    "version": 3
   },
   "file_extension": ".py",
   "mimetype": "text/x-python",
   "name": "python",
   "nbconvert_exporter": "python",
   "pygments_lexer": "ipython3",
   "version": "3.10.10"
  },
  "orig_nbformat": 4
 },
 "nbformat": 4,
 "nbformat_minor": 2
}
