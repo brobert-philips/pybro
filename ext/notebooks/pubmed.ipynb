{
 "cells": [
  {
   "cell_type": "code",
   "execution_count": 1,
   "metadata": {},
   "outputs": [
    {
     "ename": "NameError",
     "evalue": "name 'self' is not defined",
     "output_type": "error",
     "traceback": [
      "\u001b[0;31m---------------------------------------------------------------------------\u001b[0m",
      "\u001b[0;31mNameError\u001b[0m                                 Traceback (most recent call last)",
      "Cell \u001b[0;32mIn[1], line 20\u001b[0m\n\u001b[1;32m     17\u001b[0m logger \u001b[39m=\u001b[39m logging\u001b[39m.\u001b[39mgetLogger(\u001b[39m__name__\u001b[39m)\n\u001b[1;32m     19\u001b[0m \u001b[39m# Create DicomFile instance\u001b[39;00m\n\u001b[0;32m---> 20\u001b[0m pubmed_file \u001b[39m=\u001b[39m PubmedFile(\u001b[39m\"\u001b[39;49m\u001b[39m../data/pubmed/supported_file.pubmed\u001b[39;49m\u001b[39m\"\u001b[39;49m)\n\u001b[1;32m     21\u001b[0m \u001b[39mprint\u001b[39m(pubmed_file)\n",
      "File \u001b[0;32m~/Library/CloudStorage/OneDrive-Philips/Documents/03_development/05_python/pybro/src/pybro/pubmed/files.py:60\u001b[0m, in \u001b[0;36mPubmedFile.__init__\u001b[0;34m(self, file_path)\u001b[0m\n\u001b[1;32m     47\u001b[0m \u001b[39m\u001b[39m\u001b[39m\"\"\"\u001b[39;00m\n\u001b[1;32m     48\u001b[0m \u001b[39mInitialize a PUBMED file object.\u001b[39;00m\n\u001b[1;32m     49\u001b[0m \n\u001b[0;32m   (...)\u001b[0m\n\u001b[1;32m     57\u001b[0m \u001b[39m    Path to the DICOM file.\u001b[39;00m\n\u001b[1;32m     58\u001b[0m \u001b[39m\"\"\"\u001b[39;00m\n\u001b[1;32m     59\u001b[0m \u001b[39m# Initialize parent attributes\u001b[39;00m\n\u001b[0;32m---> 60\u001b[0m \u001b[39msuper\u001b[39;49m()\u001b[39m.\u001b[39;49m\u001b[39m__init__\u001b[39;49m(file_path)\n\u001b[1;32m     62\u001b[0m \u001b[39m# Read PUBMED file to build PUBMED database\u001b[39;00m\n\u001b[1;32m     63\u001b[0m tags     \u001b[39m=\u001b[39m []\n",
      "File \u001b[0;32m~/Library/CloudStorage/OneDrive-Philips/Documents/03_development/05_python/pybro/src/pybro/utils/files.py:64\u001b[0m, in \u001b[0;36mGenericFile.__init__\u001b[0;34m(self, file_path)\u001b[0m\n\u001b[1;32m     61\u001b[0m     \u001b[39mself\u001b[39m\u001b[39m.\u001b[39mfile_path \u001b[39m=\u001b[39m os\u001b[39m.\u001b[39mpath\u001b[39m.\u001b[39mabspath(file_path)\n\u001b[1;32m     63\u001b[0m \u001b[39m# Control if path is valid and file supported\u001b[39;00m\n\u001b[0;32m---> 64\u001b[0m \u001b[39mif\u001b[39;00m \u001b[39mnot\u001b[39;00m \u001b[39mself\u001b[39;49m\u001b[39m.\u001b[39;49m\u001b[39m__class__\u001b[39;49m\u001b[39m.\u001b[39;49mtest_file(\u001b[39mself\u001b[39;49m\u001b[39m.\u001b[39;49mfile_path):\n\u001b[1;32m     65\u001b[0m     err_msg \u001b[39m=\u001b[39m \u001b[39mf\u001b[39m\u001b[39m\"\u001b[39m\u001b[39mFile is not supported (\u001b[39m\u001b[39m{\u001b[39;00m\u001b[39mself\u001b[39m\u001b[39m.\u001b[39mfile_path\u001b[39m}\u001b[39;00m\u001b[39m).\u001b[39m\u001b[39m\"\u001b[39m\n\u001b[1;32m     66\u001b[0m     logger\u001b[39m.\u001b[39merror(err_msg)\n",
      "File \u001b[0;32m~/Library/CloudStorage/OneDrive-Philips/Documents/03_development/05_python/pybro/src/pybro/pubmed/files.py:123\u001b[0m, in \u001b[0;36mPubmedFile.test_file\u001b[0;34m(file_path)\u001b[0m\n\u001b[1;32m    121\u001b[0m \u001b[39mtry\u001b[39;00m:\n\u001b[1;32m    122\u001b[0m     tags \u001b[39m=\u001b[39m []\n\u001b[0;32m--> 123\u001b[0m     \u001b[39mwith\u001b[39;00m \u001b[39mopen\u001b[39m(\u001b[39mself\u001b[39;49m\u001b[39m.\u001b[39mfile_path, \u001b[39m\"\u001b[39m\u001b[39mr\u001b[39m\u001b[39m\"\u001b[39m, encoding\u001b[39m=\u001b[39m\u001b[39m\"\u001b[39m\u001b[39mutf-8\u001b[39m\u001b[39m\"\u001b[39m) \u001b[39mas\u001b[39;00m file:\n\u001b[1;32m    124\u001b[0m         \u001b[39mfor\u001b[39;00m line \u001b[39min\u001b[39;00m file:\n\u001b[1;32m    125\u001b[0m             \u001b[39m# Extract tag info\u001b[39;00m\n\u001b[1;32m    126\u001b[0m             tag  \u001b[39m=\u001b[39m line[:\u001b[39m4\u001b[39m]\u001b[39m.\u001b[39mstrip()\n",
      "\u001b[0;31mNameError\u001b[0m: name 'self' is not defined"
     ]
    }
   ],
   "source": [
    "# Read a PUBMED file and create a PUBMED database\n",
    "\n",
    "# Import packages and submodules\n",
    "import logging\n",
    "\n",
    "# Import submodules, classes and methods\n",
    "from pybro.utils import setup_logging\n",
    "from pybro.pubmed import PubmedFile\n",
    "\n",
    "# Setup logging\n",
    "setup_logging(\n",
    "    log_type=\"dev\",\n",
    "    output=\"file\",\n",
    ")\n",
    "\n",
    "# Initialize logging in this file\n",
    "logger = logging.getLogger(__name__)\n",
    "\n",
    "# Create DicomFile instance\n",
    "pubmed_file = PubmedFile(\"../data/pubmed/supported_file.pubmed\")\n",
    "print(pubmed_file)\n"
   ]
  },
  {
   "cell_type": "code",
   "execution_count": null,
   "metadata": {},
   "outputs": [],
   "source": []
  }
 ],
 "metadata": {
  "kernelspec": {
   "display_name": "Python 3",
   "language": "python",
   "name": "python3"
  },
  "language_info": {
   "codemirror_mode": {
    "name": "ipython",
    "version": 3
   },
   "file_extension": ".py",
   "mimetype": "text/x-python",
   "name": "python",
   "nbconvert_exporter": "python",
   "pygments_lexer": "ipython3",
   "version": "3.10.10"
  },
  "orig_nbformat": 4
 },
 "nbformat": 4,
 "nbformat_minor": 2
}
