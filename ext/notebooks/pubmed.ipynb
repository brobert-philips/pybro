{
 "cells": [
  {
   "cell_type": "code",
   "execution_count": null,
   "metadata": {},
   "outputs": [],
   "source": [
    "# Read a PUBMED file and create a PUBMED database\n",
    "\n",
    "# Import packages and submodules\n",
    "import logging\n",
    "\n",
    "# Import submodules, classes and methods\n",
    "from pybro.utils import setup_logging\n",
    "from pybro.pubmed import PubmedFile\n",
    "\n",
    "# Setup logging\n",
    "setup_logging(\n",
    "    log_type=\"dev\",\n",
    "    output=\"file\",\n",
    ")\n",
    "\n",
    "# Initialize logging in this file\n",
    "logger = logging.getLogger(__name__)\n",
    "\n",
    "# Create DicomFile instance\n",
    "pubmed_file = PubmedFile(\"../data/pubmed/supported_file.pubmed\")\n",
    "print(pubmed_file)\n"
   ]
  },
  {
   "cell_type": "code",
   "execution_count": null,
   "metadata": {},
   "outputs": [],
   "source": []
  }
 ],
 "metadata": {
  "kernelspec": {
   "display_name": "Python 3",
   "language": "python",
   "name": "python3"
  },
  "language_info": {
   "codemirror_mode": {
    "name": "ipython",
    "version": 3
   },
   "file_extension": ".py",
   "mimetype": "text/x-python",
   "name": "python",
   "nbconvert_exporter": "python",
   "pygments_lexer": "ipython3",
   "version": "3.10.10"
  },
  "orig_nbformat": 4
 },
 "nbformat": 4,
 "nbformat_minor": 2
}
